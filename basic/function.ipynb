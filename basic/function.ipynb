{
 "cells": [
  {
   "cell_type": "markdown",
   "metadata": {},
   "source": [
    "### 함수\n",
    "```\n",
    "def 함수명():\n",
    "    함수가 해야할 일\n",
    "```"
   ]
  },
  {
   "cell_type": "code",
   "execution_count": 1,
   "metadata": {},
   "outputs": [],
   "source": [
    "def hello():\n",
    "    print(\"hello\")"
   ]
  },
  {
   "cell_type": "code",
   "execution_count": 2,
   "metadata": {},
   "outputs": [
    {
     "name": "stdout",
     "output_type": "stream",
     "text": [
      "hello\n"
     ]
    }
   ],
   "source": [
    "hello()"
   ]
  },
  {
   "cell_type": "code",
   "execution_count": 3,
   "metadata": {},
   "outputs": [
    {
     "data": {
      "text/plain": [
       "'hello'"
      ]
     },
     "execution_count": 3,
     "metadata": {},
     "output_type": "execute_result"
    }
   ],
   "source": [
    "def hello2():\n",
    "    return \"hello\"\n",
    "\n",
    "hello2()"
   ]
  },
  {
   "cell_type": "code",
   "execution_count": 4,
   "metadata": {},
   "outputs": [
    {
     "name": "stdout",
     "output_type": "stream",
     "text": [
      "3 + 4 = 7\n"
     ]
    }
   ],
   "source": [
    "def add(a, b):\n",
    "    return a + b\n",
    "\n",
    "print(f\"3 + 4 = {add(3,4)}\")"
   ]
  },
  {
   "cell_type": "code",
   "execution_count": 6,
   "metadata": {},
   "outputs": [
    {
     "name": "stdout",
     "output_type": "stream",
     "text": [
      "안녕하세요\n",
      "안녕하세요\n",
      "안녕하세요\n",
      "안녕하세요\n"
     ]
    }
   ],
   "source": [
    "# 기본 파라메터 : 인자에 기본값(변수값이 안 넘어오는 경우에 사용)을 주는 형태\n",
    "\n",
    "def print_n_times(value, n=2):\n",
    "    for i in range(n):\n",
    "        print(value)\n",
    "\n",
    "\n",
    "print_n_times(\"안녕하세요\",4)"
   ]
  },
  {
   "cell_type": "code",
   "execution_count": 7,
   "metadata": {},
   "outputs": [
    {
     "name": "stdout",
     "output_type": "stream",
     "text": [
      "()\n",
      "({'name': 'hong', 'age': 20},)\n",
      "(35, 24, 25, 63)\n",
      "('A', 'B', 'C', 'D')\n",
      "(['A', 'B', 'C', 'D'],)\n"
     ]
    }
   ],
   "source": [
    "# 가변 파라메터(파라메터의 개수가 정해져 있지 않음)\n",
    "def add_many(*args):\n",
    "    print(args)\n",
    "\n",
    "add_many()\n",
    "add_many({\"name\":\"hong\",\"age\":20})\n",
    "add_many(35,24,25,63)\n",
    "add_many(\"A\",\"B\",\"C\",\"D\")\n",
    "add_many([\"A\",\"B\",\"C\",\"D\"])"
   ]
  },
  {
   "cell_type": "code",
   "execution_count": 3,
   "metadata": {},
   "outputs": [],
   "source": [
    "def sum_and_mul(a,b):\n",
    "    return (a+b,a*b)"
   ]
  },
  {
   "cell_type": "code",
   "execution_count": 5,
   "metadata": {},
   "outputs": [
    {
     "name": "stdout",
     "output_type": "stream",
     "text": [
      "덧셈 : 8, 곱셈 : 15\n"
     ]
    }
   ],
   "source": [
    "result1, result2 = sum_and_mul(5,3)\n",
    "print(f\"덧셈 : {result1}, 곱셈 : {result2}\")"
   ]
  },
  {
   "cell_type": "code",
   "execution_count": 4,
   "metadata": {},
   "outputs": [
    {
     "name": "stdout",
     "output_type": "stream",
     "text": [
      "(8, 15)\n"
     ]
    }
   ],
   "source": [
    "result3 = sum_and_mul(5,3)\n",
    "print(result3)"
   ]
  },
  {
   "cell_type": "code",
   "execution_count": 7,
   "metadata": {},
   "outputs": [],
   "source": [
    "def func2(x):\n",
    "    y1 = x *100\n",
    "    y2 = x *200\n",
    "    y3 = x *300\n",
    "    \n",
    "    #return y1,y2,y3 =>tuple 로 리턴\n",
    "    return [y1, y2, y3]"
   ]
  },
  {
   "cell_type": "code",
   "execution_count": 8,
   "metadata": {},
   "outputs": [
    {
     "name": "stdout",
     "output_type": "stream",
     "text": [
      "[1000, 2000, 3000]\n"
     ]
    }
   ],
   "source": [
    "list1 = func2(10)\n",
    "print(list1)"
   ]
  },
  {
   "cell_type": "code",
   "execution_count": 15,
   "metadata": {},
   "outputs": [
    {
     "name": "stdout",
     "output_type": "stream",
     "text": [
      "6+3=9\n",
      "6-3=3\n",
      "6*3=18\n",
      "6/3=2\n"
     ]
    }
   ],
   "source": [
    "# 사칙연산 함수\n",
    "def fourRules(num1,num2,op):\n",
    "    if op == \"+\":\n",
    "        result = num1 + num2\n",
    "    elif op == \"-\" :\n",
    "        result = num1 - num2\n",
    "    elif op == \"*\" :\n",
    "        result = num1 * num2\n",
    "    elif op == \"//\" :\n",
    "        result = num1 // num2\n",
    "    return result\n",
    "\n",
    "\n",
    "\n",
    "a, b = 6,3\n",
    "# 사칙연산 결과 출력\n",
    "print(f\"{a}+{b}={fourRules(a,b,\"+\")}\")\n",
    "print(f\"{a}-{b}={fourRules(a,b,\"-\")}\")\n",
    "print(f\"{a}*{b}={fourRules(a,b,\"*\")}\")\n",
    "print(f\"{a}/{b}={fourRules(a,b,\"//\")}\")"
   ]
  },
  {
   "cell_type": "code",
   "execution_count": 18,
   "metadata": {},
   "outputs": [
    {
     "name": "stdout",
     "output_type": "stream",
     "text": [
      "2 * 8 = 16\n"
     ]
    }
   ],
   "source": [
    "# a, b, op 입력받기\n",
    "\n",
    "# 사칙연산 결과 출력\n",
    "a=int(input(\"숫자1 입력\"))\n",
    "b=int(input(\"숫자2 입력\"))\n",
    "op=input(\"연산기호 입력\")\n",
    "print(f\"{a} {op} {b} = {fourRules(a,b,op)}\")\n",
    "\n"
   ]
  },
  {
   "cell_type": "code",
   "execution_count": 19,
   "metadata": {},
   "outputs": [],
   "source": [
    "# 유효범위\n",
    "a = 3\n",
    "\n",
    "def func2(a):\n",
    "    print(f\"함수 내부 {a}\")\n",
    "    a += 2\n",
    "    print(f\"함수 내부 {a}\")"
   ]
  },
  {
   "cell_type": "code",
   "execution_count": 21,
   "metadata": {},
   "outputs": [
    {
     "name": "stdout",
     "output_type": "stream",
     "text": [
      "3\n",
      "함수 내부 1\n",
      "함수 내부 3\n"
     ]
    }
   ],
   "source": [
    "# 전역변수\n",
    "print(a)\n",
    "func2(1)"
   ]
  },
  {
   "cell_type": "code",
   "execution_count": 24,
   "metadata": {},
   "outputs": [],
   "source": [
    "def func3() :\n",
    "    # 함수 내부에서 전역 변수 사용 불가\n",
    "    global a\n",
    "    a += 2\n",
    "    return a"
   ]
  },
  {
   "cell_type": "code",
   "execution_count": 25,
   "metadata": {},
   "outputs": [
    {
     "name": "stdout",
     "output_type": "stream",
     "text": [
      "5\n"
     ]
    }
   ],
   "source": [
    "print(func3())"
   ]
  },
  {
   "cell_type": "markdown",
   "metadata": {},
   "source": [
    "#### 람다 함수\n",
    "- 단일문으로 표현되는 익명함수\n",
    "- 코드 상에서 한번만 사용되는 기능이 필요할 때 함수로 작성하지 않고 1회성으로 만들 때 주로 사용"
   ]
  },
  {
   "cell_type": "code",
   "execution_count": 27,
   "metadata": {},
   "outputs": [
    {
     "data": {
      "text/plain": [
       "25"
      ]
     },
     "execution_count": 27,
     "metadata": {},
     "output_type": "execute_result"
    }
   ],
   "source": [
    "def square(x):\n",
    "    return x ** 2\n",
    "square(5)"
   ]
  },
  {
   "cell_type": "code",
   "execution_count": 28,
   "metadata": {},
   "outputs": [
    {
     "data": {
      "text/plain": [
       "36"
      ]
     },
     "execution_count": 28,
     "metadata": {},
     "output_type": "execute_result"
    }
   ],
   "source": [
    "square = lambda x : x ** 2\n",
    "square(6)"
   ]
  },
  {
   "cell_type": "code",
   "execution_count": 29,
   "metadata": {},
   "outputs": [
    {
     "data": {
      "text/plain": [
       "27"
      ]
     },
     "execution_count": 29,
     "metadata": {},
     "output_type": "execute_result"
    }
   ],
   "source": [
    "def add(x,y):\n",
    "    return x+y\n",
    "add(15,12)"
   ]
  },
  {
   "cell_type": "code",
   "execution_count": 30,
   "metadata": {},
   "outputs": [
    {
     "data": {
      "text/plain": [
       "24"
      ]
     },
     "execution_count": 30,
     "metadata": {},
     "output_type": "execute_result"
    }
   ],
   "source": [
    "add = lambda x, y: x+y\n",
    "add(18,6)"
   ]
  },
  {
   "cell_type": "code",
   "execution_count": 31,
   "metadata": {},
   "outputs": [
    {
     "data": {
      "text/plain": [
       "['alexander3', 'bob', 'charles', 'teddy']"
      ]
     },
     "execution_count": 31,
     "metadata": {},
     "output_type": "execute_result"
    }
   ],
   "source": [
    "strings = [\"bob\", \"charles\", \"alexander3\", \"teddy\"]\n",
    "strings.sort() # 기본 오름차순 정렬\n",
    "\n",
    "strings"
   ]
  },
  {
   "cell_type": "code",
   "execution_count": 32,
   "metadata": {},
   "outputs": [
    {
     "data": {
      "text/plain": [
       "['teddy', 'charles', 'bob', 'alexander3']"
      ]
     },
     "execution_count": 32,
     "metadata": {},
     "output_type": "execute_result"
    }
   ],
   "source": [
    "strings =  [\"bob\", \"charles\", \"alexander3\", \"teddy\"]\n",
    "strings.sort(reverse=True) #내림차순 정렬\n",
    "#strings"
   ]
  },
  {
   "cell_type": "code",
   "execution_count": 33,
   "metadata": {},
   "outputs": [
    {
     "data": {
      "text/plain": [
       "['bob', 'teddy', 'charles', 'alexander3']"
      ]
     },
     "execution_count": 33,
     "metadata": {},
     "output_type": "execute_result"
    }
   ],
   "source": [
    "# 단어 길이 리턴 함수\n",
    "def str_len(word):\n",
    "    return len(word)\n",
    "\n",
    "strings =  [\"bob\", \"charles\", \"alexander3\", \"teddy\"]\n",
    "strings.sort(key=str_len) #정렬 기준 지정 후 정렬 -단어의 길이가 짧은 순서\n",
    "strings"
   ]
  },
  {
   "cell_type": "code",
   "execution_count": 34,
   "metadata": {},
   "outputs": [
    {
     "data": {
      "text/plain": [
       "['bob', 'teddy', 'charles', 'alexander3']"
      ]
     },
     "execution_count": 34,
     "metadata": {},
     "output_type": "execute_result"
    }
   ],
   "source": [
    "strings =  [\"bob\", \"charles\", \"alexander3\", \"teddy\"]\n",
    "strings.sort(key=lambda s:len(s)) #정렬 기준 지정 함수 - 한번만 쓸거면 람다함수\n",
    "strings"
   ]
  },
  {
   "cell_type": "code",
   "execution_count": 35,
   "metadata": {},
   "outputs": [
    {
     "data": {
      "text/plain": [
       "['alexander3', 'charles', 'teddy', 'bob']"
      ]
     },
     "execution_count": 35,
     "metadata": {},
     "output_type": "execute_result"
    }
   ],
   "source": [
    "strings =  [\"bob\", \"charles\", \"alexander3\", \"teddy\"]\n",
    "strings.sort(key=lambda s:len(s), reverse=True) \n",
    "strings"
   ]
  },
  {
   "cell_type": "markdown",
   "metadata": {},
   "source": [
    "- filter(함수, 데이터): 반복 가능한 데이터 요소 순서대로 함수를 호출했을 때 리턴 값이 참임것만 묶어서 리턴\n",
    "- map(함수, 데이터): 반복 가능한 데이터 요소에 함수를 적용한 결과 리턴\n",
    "- reduce()"
   ]
  },
  {
   "cell_type": "code",
   "execution_count": 37,
   "metadata": {},
   "outputs": [
    {
     "data": {
      "text/plain": [
       "[2, 6, 8]"
      ]
     },
     "execution_count": 37,
     "metadata": {},
     "output_type": "execute_result"
    }
   ],
   "source": [
    "def even(arr):\n",
    "    result = []\n",
    "    for i in arr :\n",
    "        if i % 2 == 0:\n",
    "            result.append(i)\n",
    "    return result\n",
    "even([1,2,3,6,8,9])"
   ]
  },
  {
   "cell_type": "code",
   "execution_count": 38,
   "metadata": {},
   "outputs": [
    {
     "name": "stdout",
     "output_type": "stream",
     "text": [
      "[2, 6, 8]\n"
     ]
    }
   ],
   "source": [
    "def even(n):\n",
    "    return n%2 ==0\n",
    "print(list(filter(even,[1,2,3,6,8,9])))"
   ]
  },
  {
   "cell_type": "code",
   "execution_count": 39,
   "metadata": {},
   "outputs": [
    {
     "name": "stdout",
     "output_type": "stream",
     "text": [
      "[2, 6, 8, 10]\n"
     ]
    }
   ],
   "source": [
    "print(list(filter(lambda x:x%2==0, [1,2,3,6,8,9,10])))"
   ]
  },
  {
   "cell_type": "code",
   "execution_count": 41,
   "metadata": {},
   "outputs": [
    {
     "data": {
      "text/plain": [
       "[1, 2, 6]"
      ]
     },
     "execution_count": 41,
     "metadata": {},
     "output_type": "execute_result"
    }
   ],
   "source": [
    "#양수만 추출\n",
    "def positive(list1):\n",
    "    result = []\n",
    "    for i in list1:\n",
    "        if i>0:\n",
    "            result.append(i)\n",
    "    return result\n",
    "\n",
    "list1 = [1,-3,2,0,-5,6]\n",
    "positive(list1)\n"
   ]
  },
  {
   "cell_type": "code",
   "execution_count": 42,
   "metadata": {},
   "outputs": [
    {
     "name": "stdout",
     "output_type": "stream",
     "text": [
      "[1, 2, 6]\n"
     ]
    }
   ],
   "source": [
    "print(list(filter(lambda x:x>0, [1,-3,2,0,-5,6])))"
   ]
  },
  {
   "cell_type": "code",
   "execution_count": 43,
   "metadata": {},
   "outputs": [
    {
     "data": {
      "text/plain": [
       "[2, 4, 6, 8, 12, 16, 20, 22, 24, 28, 30, 32]"
      ]
     },
     "execution_count": 43,
     "metadata": {},
     "output_type": "execute_result"
    }
   ],
   "source": [
    "# 리스트의 각 요소에 2를 곱해 리턴\n",
    "def two_times(nums):\n",
    "    result = []\n",
    "    for i in nums :\n",
    "        result.append(i*2)\n",
    "    return result\n",
    "\n",
    "\n",
    "num_list = [1,2,3,4,6,8,10,11,12,14,15,16]\n",
    "two_times(num_list)"
   ]
  },
  {
   "cell_type": "code",
   "execution_count": 44,
   "metadata": {},
   "outputs": [
    {
     "data": {
      "text/plain": [
       "[2, 4, 6, 8, 12, 16, 20, 22, 24, 28, 30, 32]"
      ]
     },
     "execution_count": 44,
     "metadata": {},
     "output_type": "execute_result"
    }
   ],
   "source": [
    "def two_times(x):\n",
    "    return x*2\n",
    "list(map(two_times, num_list))"
   ]
  },
  {
   "cell_type": "code",
   "execution_count": 45,
   "metadata": {},
   "outputs": [
    {
     "data": {
      "text/plain": [
       "[2, 4, 6, 8, 12, 16, 20, 22, 24, 28, 30, 32]"
      ]
     },
     "execution_count": 45,
     "metadata": {},
     "output_type": "execute_result"
    }
   ],
   "source": [
    "list(map(lambda x:x*2, num_list))"
   ]
  }
 ],
 "metadata": {
  "kernelspec": {
   "display_name": "venv",
   "language": "python",
   "name": "python3"
  },
  "language_info": {
   "codemirror_mode": {
    "name": "ipython",
    "version": 3
   },
   "file_extension": ".py",
   "mimetype": "text/x-python",
   "name": "python",
   "nbconvert_exporter": "python",
   "pygments_lexer": "ipython3",
   "version": "3.13.1"
  }
 },
 "nbformat": 4,
 "nbformat_minor": 2
}
